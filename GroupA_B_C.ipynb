{
 "cells": [
  {
   "cell_type": "markdown",
   "metadata": {},
   "source": [
    "## <center>Assignment 01\n",
    "<center>In second year computer engineering class, group A students play cricket,<br>\n",
    "group B students play badminton and group C students play football. <br>\n",
    "Write a python program using functions to compute following: -<br>\n",
    "a) List of students who play both cricket and badminton <br>\n",
    "b) List of students who play either cricket or badminton but not both <br>\n",
    "c) Number of students who play neither cricket nor badminton<br>\n",
    "d) Number of students who play cricket and football but not badminton.<br></center>\n"
   ]
  },
  {
   "cell_type": "code",
   "execution_count": 5,
   "metadata": {},
   "outputs": [],
   "source": [
    "def set_union(A,B):\n",
    "    Result=[]\n",
    "    for i in range (len(A)):         #copy of List A into Result list\n",
    "        Result.append(A[i])\n",
    "    for i in range (0,len(B)):\n",
    "        \n",
    "        for j in range (len ( A)):\n",
    "            if B[i]==A[j]:\n",
    "                break\n",
    "        else:\n",
    "            Result.append(B[i])\n",
    "    return Result"
   ]
  },
  {
   "cell_type": "code",
   "execution_count": 4,
   "metadata": {},
   "outputs": [],
   "source": [
    "def set_intersection(A,B):\n",
    "    Result=[]\n",
    "    for i in range (len(A)):\n",
    "        for j in range (len(B)):\n",
    "            if (A[i]==B[j]):\n",
    "                Result.append(A[i])\n",
    "                break\n",
    "    return Result"
   ]
  },
  {
   "cell_type": "code",
   "execution_count": 3,
   "metadata": {},
   "outputs": [],
   "source": [
    "def set_differnce(A,B):\n",
    "    Result=[]\n",
    "    for i in range (len(A)):\n",
    "        for j in range (len(B)):\n",
    "            if A[i]==B[j]:\n",
    "                break\n",
    "        else:\n",
    "            Result.append(A[i])\n",
    "    return Result"
   ]
  },
  {
   "cell_type": "code",
   "execution_count": 2,
   "metadata": {},
   "outputs": [],
   "source": [
    "def set_insert(a,str):\n",
    "    n=int(input(\"Enter the number Of element in {} \".format(str)))\n",
    "    for i in range (n):\n",
    "        a.append (input(\"Enter the element {} for {} : \" .format((i+1),str)))\n",
    "    print(\"\\nEntered elements in {} are : \".format (str),a)"
   ]
  },
  {
   "cell_type": "markdown",
   "metadata": {},
   "source": [
    "## Main Method"
   ]
  },
  {
   "cell_type": "code",
   "execution_count": 1,
   "metadata": {},
   "outputs": [
    {
     "name": "stdout",
     "output_type": "stream",
     "text": [
      "\n",
      "                     Welcome To Assignment 01 :                    \n",
      " \n",
      "========================================================================\n",
      "Press The Serial number You Need to Perform  \n",
      "1. List of students who play both cricket and badminton \n",
      "2. List of students who play either cricket or badminton but not both \n",
      "3. Number of students who play neither cricket nor badminton \n",
      "4. Number of students who play cricket and football but not badminton. \n",
      "5. Close The Program !\n",
      "========================================================================\n",
      "\n",
      "Enter the Serial Number of the operation You need to perform : 5\n",
      "Program Closed !\n"
     ]
    }
   ],
   "source": [
    "\n",
    "while True:\n",
    "    print (\"\\n                     Welcome To Assignment 01 :                    \\n \\n\"\n",
    "           \"========================================================================\\n\"\n",
    "           \"Press The Serial number You Need to Perform  \\n\"\n",
    "          \"1. List of students who play both cricket and badminton \\n\"\n",
    "          \"2. List of students who play either cricket or badminton but not both \\n\"\n",
    "          \"3. Number of students who play neither cricket nor badminton \\n\"\n",
    "          \"4. Number of students who play cricket and football but not badminton. \\n\"\n",
    "           \"5. Close The Program !\\n\"\n",
    "                 \"========================================================================\\n\")\n",
    "    ch=int(input(\"Enter the Serial Number of the operation You need to perform : \"))\n",
    "    if ch==5:\n",
    "        print(\"Program Closed !\")\n",
    "        break\n",
    "        \n",
    "    list1=[\"Cricket\",\"Badminton\",\"Football\"]   \n",
    "    A=[]\n",
    "    B=[]\n",
    "    C=[]\n",
    "    R=[]                                          #extra list to store elements in condition 3 and 4\n",
    "    set_insert(A,list1[0])\n",
    "    set_insert(B,list1[1])\n",
    "    set_insert(C,list1[2])\n",
    "\n",
    "   \n",
    "    \n",
    "    if ch==1:\n",
    "        print(\"List of students who play both cricket and badminton : \",set_intersection(A,B))\n",
    "    elif ch==2:\n",
    "        print(\"List of students who play either cricket or badminton but not both : \",set_differnce(set_union(A,B),set_intersection(A,B)))\n",
    "    elif ch==3:\n",
    "        R=set_differnce(C,set_union(A,B))\n",
    "        print(\"The Number of students who play neither cricket nor badminton : \",len(R))\n",
    "    elif ch==4:\n",
    "        R=set_differnce(set_intersection(A,C),B)\n",
    "        print(\"Number of students who play cricket and football but not badminton : \",len(R))\n",
    "    else:\n",
    "        print(\"Incorrect Input , Please Try Again !\")"
   ]
  },
  {
   "cell_type": "markdown",
   "metadata": {},
   "source": [
    "### <center>Coded By : Shubham Jain..."
   ]
  }
 ],
 "metadata": {
  "kernelspec": {
   "display_name": "Python 3",
   "language": "python",
   "name": "python3"
  },
  "language_info": {
   "codemirror_mode": {
    "name": "ipython",
    "version": 3
   },
   "file_extension": ".py",
   "mimetype": "text/x-python",
   "name": "python",
   "nbconvert_exporter": "python",
   "pygments_lexer": "ipython3",
   "version": "3.8.3"
  }
 },
 "nbformat": 4,
 "nbformat_minor": 4
}
